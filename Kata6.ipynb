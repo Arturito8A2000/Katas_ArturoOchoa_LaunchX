{
 "cells": [
  {
   "cell_type": "markdown",
   "metadata": {},
   "source": [
    "# Ejercicio1: Crear y usar listas de Python"
   ]
  },
  {
   "cell_type": "markdown",
   "metadata": {},
   "source": [
    "#### Usar listas para almacenar nombres de planetas"
   ]
  },
  {
   "cell_type": "code",
   "execution_count": 5,
   "metadata": {},
   "outputs": [
    {
     "name": "stdout",
     "output_type": "stream",
     "text": [
      "Hay un total de 8 planetas en la lista\n"
     ]
    }
   ],
   "source": [
    "Planets = ['Mercurio', 'Venus', 'Tierra', 'Marte', 'Jupiter', 'Saturno', 'Urano', 'Neptuno']\n",
    "print(\"Hay un total de \" + str(len(Planets)) + \" planetas en la lista\")                         #Creacion de lista de planetas"
   ]
  },
  {
   "cell_type": "code",
   "execution_count": 7,
   "metadata": {},
   "outputs": [
    {
     "name": "stdout",
     "output_type": "stream",
     "text": [
      "Pluton es el ultimo planeta\n"
     ]
    }
   ],
   "source": [
    "Planets.append('Pluton')                                            #Añade elemento al final de la lista\n",
    "print(str(Planets[-1]) + \" es el ultimo planeta\")                   #Imprime el ultimo elemento de la lista"
   ]
  },
  {
   "cell_type": "markdown",
   "metadata": {},
   "source": [
    "# Ejercicio 2: Trabajando con datos de una lista"
   ]
  },
  {
   "cell_type": "code",
   "execution_count": 8,
   "metadata": {},
   "outputs": [],
   "source": [
    "Planets = ['Mercurio', 'Venus', 'Tierra', 'Marte', 'Jupiter', 'Saturno', 'Urano', 'Neptuno']"
   ]
  },
  {
   "cell_type": "code",
   "execution_count": 24,
   "metadata": {},
   "outputs": [],
   "source": [
    "Usuario = input(\"Ingrese el nombre de un planeta (Inicia con mayusculas): \")\n",
    "Busqueda = Planets.index(Usuario)                                   #Almacena el indice de elemento ingresado por usuario\n"
   ]
  },
  {
   "cell_type": "code",
   "execution_count": 27,
   "metadata": {},
   "outputs": [
    {
     "name": "stdout",
     "output_type": "stream",
     "text": [
      "Los planetas más cercanos al sol antes que Neptuno son:\n",
      "['Mercurio', 'Venus', 'Tierra', 'Marte', 'Jupiter', 'Saturno', 'Urano']\n",
      "Los planetas más alejados al sol desde Neptuno son:\n",
      "[]\n"
     ]
    }
   ],
   "source": [
    "print(\"Los planetas más cercanos al sol antes que \" + str(Usuario) + \" son:\")   #Imprime los elemntos de la lista de 0 -> Busqueda\n",
    "print (Planets[0:Busqueda])\n",
    "print(\"Los planetas más alejados al sol desde \" + str(Usuario) + \" son:\")       #Imprime los elementos de Busqueda+1 -> final\n",
    "print (Planets[Busqueda+1:])"
   ]
  },
  {
   "cell_type": "code",
   "execution_count": null,
   "metadata": {},
   "outputs": [],
   "source": []
  }
 ],
 "metadata": {
  "interpreter": {
   "hash": "5867cd861b48cebe4b2f7e4360f53d229430951dd37022d1e3038d166b3cc25c"
  },
  "kernelspec": {
   "display_name": "Python 3.10.2 64-bit (windows store)",
   "language": "python",
   "name": "python3"
  },
  "language_info": {
   "codemirror_mode": {
    "name": "ipython",
    "version": 3
   },
   "file_extension": ".py",
   "mimetype": "text/x-python",
   "name": "python",
   "nbconvert_exporter": "python",
   "pygments_lexer": "ipython3",
   "version": "3.10.2"
  },
  "orig_nbformat": 4
 },
 "nbformat": 4,
 "nbformat_minor": 2
}
