{
 "cells": [
  {
   "cell_type": "markdown",
   "metadata": {},
   "source": [
    "# Ejercicio - Crear un paquete desde un entorno virtual\n",
    "En este ejercicio, se usarán entornos virtuales como una forma para no afectar los paquetes instalados globalmente u otros programas que se ejecutan en tu máquina.\n",
    "\n",
    "Este ejercicio es necesario realizarlo desde la terminal, línea de comandos, cmd, consola, cli, etc. de tu computadora\n",
    "\n",
    "## Crear un entorno virtual\n",
    "Crea un entorno virtual mediante venv\n",
    "\n",
    "Ubicarse en el folder deseado usando el comando `cd`\n",
    "\n",
    "Una vez en el directorio, ejecutar en la terminal:\n",
    "\n",
    "`python3 -m venv env`  \n",
    "\n",
    "`python -m venv env`\n",
    "\n",
    "Ahora tienes un directorio (folder) env creado desde tu terminal, ubicado en la ubicación dada y que contine los siguientes directorios:\n",
    "- Include\n",
    "- Lib\n",
    "- Scripts\n",
    "\n",
    "\n",
    "Ejecuta el comando para activar el entorno virtual:\n",
    "\n",
    "`source env/Scripts/activate`\n",
    "\n",
    "Ahora ves en tu terminal `(env) source`. Eso significa que has activado tu entorno virtual y se ha aislado del resto de tu máquina.\n",
    "\n",
    "# Instalar una biblioteca\n",
    "Ahora que estás dentro de tu entorno virtual, es mmomento de instalar una biblioteca.\n",
    "\n",
    "Ejecuta el comando pip freeze para ver las bibliotecas instaladas en tu entorno:\n",
    "\n",
    "`pip freeze`\n",
    "\n",
    "Como tu entorno se encuentra vacio no deberías obtener respuesta. A continuación, veamos cómo cambia la salida de pip freeze cuando se agrega una biblioteca (un paquete)\n",
    "\n",
    "Ejecuta el comando pip install para instalar una biblioteca, en este caso instalaremos dateutil:\n",
    "\n",
    "`pip install python-dateutil`\n",
    "\n",
    "Comenzará la instalación en tu biblioteca, y al finalizar mostrará la siguiente oración:\n",
    "\n",
    "`Successfully installed python-dateutil-2.8.2 six-1.16.0`\n",
    "\n",
    "Vuelve a ejecutar pip freeze para ver cómo ha cambiado tu lista de bibliotecas:\n",
    "\n",
    "`pip freeze`\n",
    "\n",
    "Ahora deberías ver la siguiente lista con las nuevas bibliotecas instaladas:\n",
    "\n",
    "`python-dateutil==2.8.2`\n",
    "\n",
    "`six==1.16.0`\n",
    "\n",
    "## Desactivar un entorno virtual\n",
    "Es posible que estés trabajando en varios proyectos de Python y necesites cambiar entre ellos, o simplemente quieras salir del `env`. Para hacer eso, debes salir (desactivar) tu entorno virtual.\n",
    "\n",
    "Ejecuta el comando:\n",
    "\n",
    "`deactivate`\n",
    "\n",
    "Ya no se mostrará el término `env` lo que significa que has salido del entorno virtual"
   ]
  },
  {
   "cell_type": "markdown",
   "metadata": {},
   "source": []
  }
 ],
 "metadata": {
  "interpreter": {
   "hash": "5867cd861b48cebe4b2f7e4360f53d229430951dd37022d1e3038d166b3cc25c"
  },
  "kernelspec": {
   "display_name": "Python 3.10.2 64-bit (windows store)",
   "language": "python",
   "name": "python3"
  },
  "language_info": {
   "name": "python",
   "version": "3.10.2"
  },
  "orig_nbformat": 4
 },
 "nbformat": 4,
 "nbformat_minor": 2
}
