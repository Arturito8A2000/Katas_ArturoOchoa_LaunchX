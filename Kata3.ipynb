{
 "cells": [
  {
   "cell_type": "markdown",
   "metadata": {},
   "source": [
    "# Ejercicio 1\n",
    "#### Un asteroide se acerca a la tierra, la velocidad del asteroide varía dependiendo de lo cerca que esté del sol, y cualquier velocidad superior a 25 kilómetros por segundo (km/s) merece una advertencia.\n",
    "#### Desarrollar una lógica condicional que determine si un asteroide que viaja a 49 km/s merece una advertencia "
   ]
  },
  {
   "cell_type": "code",
   "execution_count": 27,
   "metadata": {},
   "outputs": [
    {
     "name": "stdout",
     "output_type": "stream",
     "text": [
      "Un asteroide se acerca a una velocidad de 49 Km/s\n",
      "\n",
      "ADVERTENCIA: La velocidad del asteroide es mayor a 25 Km/s \n",
      "***¡¡¡ IMPACTO INMINENTE !!!***\n"
     ]
    }
   ],
   "source": [
    "asteroide = 49\n",
    "print(\"Un asteroide se acerca a una velocidad de \" + str(asteroide) + \" Km/s\")\n",
    "if asteroide >= 25:\n",
    "    print(\"\\nADVERTENCIA: La velocidad del asteroide es mayor a 25 Km/s \\n***¡¡¡ IMPACTO INMINENTE !!!***\")\n",
    "else:\n",
    "    print(\"\\nNo hay problema, velocidad menor a 25 Km/s\")"
   ]
  },
  {
   "cell_type": "markdown",
   "metadata": {},
   "source": [
    "#### Desarrollar una logica condicional que indica si el rayo de luz será visible en la tierra"
   ]
  },
  {
   "cell_type": "code",
   "execution_count": 35,
   "metadata": {},
   "outputs": [
    {
     "name": "stdout",
     "output_type": "stream",
     "text": [
      "El rayo de luz es visible si el asteroide viaja una velocidad mayor o igual a 20 Km/s\n",
      "\n",
      "***Lamentamos informarles que el espectaculo de luz no será visible desde la tierra***\n"
     ]
    }
   ],
   "source": [
    "asteroide = 19\n",
    "print(\"El rayo de luz es visible si el asteroide viaja una velocidad mayor o igual a 20 Km/s\")\n",
    "if asteroide >= 20:\n",
    "    print(\"\\n***Damas y caballeros, si volteais hacia el cielo, apreciareis un espectaculo astronomico increible***\")\n",
    "else:\n",
    "    print(\"\\n***Lamentamos informarles que el espectaculo de luz no será visible desde la tierra***\")"
   ]
  },
  {
   "cell_type": "markdown",
   "metadata": {},
   "source": [
    "# Ejercicio 2\n",
    "### Determinar si un asteroide de 40m a una velocidad de 25Km/s será visible desde la tierra y si merece una advertencia"
   ]
  },
  {
   "cell_type": "code",
   "execution_count": 58,
   "metadata": {},
   "outputs": [
    {
     "name": "stdout",
     "output_type": "stream",
     "text": [
      "Un asteroide de 25m se aproxima a una velocidad de 40Km/s\n",
      "\n",
      "***¡¡¡ ADVERTENCIA: ASTEROIDE PELIGROSO APROXIMANDOSE, IMPACTO INMINENTE !!!***\n"
     ]
    }
   ],
   "source": [
    "tam_asteroide = 25\n",
    "velocidad = 40\n",
    "print(\"Un asteroide de \" + str(tam_asteroide) + \"m se aproxima a una velocidad de \" + str(velocidad) + \"Km/s\")\n",
    "if velocidad >= 25 and tam_asteroide >= 25:\n",
    "    print(\"\\n***¡¡¡ ADVERTENCIA: ASTEROIDE PELIGROSO APROXIMANDOSE, IMPACTO INMINENTE !!!***\")\n",
    "elif velocidad >= 25:\n",
    "    print(\"\\n***ADVERTENCIA: ASTEROIDE APROXIMANDOSE A \" + str(velocidad) + \"Km/s***\")\n",
    "elif velocidad >= 20:\n",
    "  print(\"\\n***Damas y caballeros, si volteais hacia el cielo, apreciareis un espectaculo astronomico increible***\")\n",
    "elif tam_asteroide < 25:\n",
    "    print(\"\\n***Lamentamos informarles que el espectaculo de luz no será visible en la tierra***\")\n",
    "else:\n",
    "    print(\"\\n***Lamentamos informarles que el espectaculo de luz no será visible en la tierra***\")"
   ]
  },
  {
   "cell_type": "code",
   "execution_count": null,
   "metadata": {},
   "outputs": [],
   "source": []
  }
 ],
 "metadata": {
  "interpreter": {
   "hash": "5867cd861b48cebe4b2f7e4360f53d229430951dd37022d1e3038d166b3cc25c"
  },
  "kernelspec": {
   "display_name": "Python 3.10.2 64-bit (windows store)",
   "language": "python",
   "name": "python3"
  },
  "language_info": {
   "codemirror_mode": {
    "name": "ipython",
    "version": 3
   },
   "file_extension": ".py",
   "mimetype": "text/x-python",
   "name": "python",
   "nbconvert_exporter": "python",
   "pygments_lexer": "ipython3",
   "version": "3.10.2"
  },
  "orig_nbformat": 4
 },
 "nbformat": 4,
 "nbformat_minor": 2
}
