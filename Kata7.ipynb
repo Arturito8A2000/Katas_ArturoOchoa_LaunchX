{
 "cells": [
  {
   "cell_type": "markdown",
   "metadata": {},
   "source": [
    "# Ejercicio 1: Creación de un bucle \"while\""
   ]
  },
  {
   "cell_type": "code",
   "execution_count": 26,
   "metadata": {},
   "outputs": [],
   "source": [
    "new_planet = ''                                             #Nueva variable vacía\n",
    "planets = []                                                #Nueva lista vacía"
   ]
  },
  {
   "cell_type": "code",
   "execution_count": 25,
   "metadata": {},
   "outputs": [],
   "source": [
    "while new_planet.lower() != 'done':                         #Mientras la entrada de usuario en minusculas sea distinto a done\n",
    "    if new_planet:\n",
    "        planets.append(new_planet)                          #Ingresar nuevos términos al final de la lista\n",
    "    new_planet = input('Enter a new planet ')"
   ]
  },
  {
   "cell_type": "markdown",
   "metadata": {},
   "source": [
    "# Ejercicio 2: Creación de un ciclo \"for\" para imprimir la lista"
   ]
  },
  {
   "cell_type": "code",
   "execution_count": 24,
   "metadata": {},
   "outputs": [
    {
     "name": "stdout",
     "output_type": "stream",
     "text": [
      "La lista de planetas está vacía\n"
     ]
    }
   ],
   "source": [
    "if planets != []:                                           #Si la lista no está vacia\n",
    "    for planet in planets:                                  #Imprime cada elemento de la lista en un ciclo for\n",
    "        print(planet)\n",
    "else:\n",
    "    print(\"La lista de planetas está vacía\")                #Ejecuta si la lista está vacía"
   ]
  }
 ],
 "metadata": {
  "interpreter": {
   "hash": "5867cd861b48cebe4b2f7e4360f53d229430951dd37022d1e3038d166b3cc25c"
  },
  "kernelspec": {
   "display_name": "Python 3.10.2 64-bit (windows store)",
   "language": "python",
   "name": "python3"
  },
  "language_info": {
   "codemirror_mode": {
    "name": "ipython",
    "version": 3
   },
   "file_extension": ".py",
   "mimetype": "text/x-python",
   "name": "python",
   "nbconvert_exporter": "python",
   "pygments_lexer": "ipython3",
   "version": "3.10.2"
  },
  "orig_nbformat": 4
 },
 "nbformat": 4,
 "nbformat_minor": 2
}
