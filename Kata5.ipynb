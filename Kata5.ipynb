{
 "cells": [
  {
   "cell_type": "markdown",
   "metadata": {},
   "source": [
    "# Ejercicio1 - Utilizar operadores aritméticos"
   ]
  },
  {
   "cell_type": "markdown",
   "metadata": {},
   "source": [
    "#### Calcula la distancia entre dos planetas usando las distancias: Tierra (149.597.870 km) y Júpiter (778.547.200 km)."
   ]
  },
  {
   "cell_type": "code",
   "execution_count": 2,
   "metadata": {},
   "outputs": [],
   "source": [
    "Tierra = 149597870 #Km\n",
    "Jupiter = 778547200 #Km"
   ]
  },
  {
   "cell_type": "code",
   "execution_count": 8,
   "metadata": {},
   "outputs": [
    {
     "name": "stdout",
     "output_type": "stream",
     "text": [
      "628949330\n",
      "390577534\n"
     ]
    }
   ],
   "source": [
    "DTierraJupiter = Jupiter - Tierra\n",
    "print(DTierraJupiter)\n",
    "\n",
    "#Conviertiendo a millas\n",
    "DTierraJupiterMillas = DTierraJupiter*0.621\n",
    "print(round(DTierraJupiterMillas))"
   ]
  },
  {
   "cell_type": "markdown",
   "metadata": {},
   "source": [
    "# Ejercicio 2: convierte cadenas en números y usa valores absolutos"
   ]
  },
  {
   "cell_type": "code",
   "execution_count": 18,
   "metadata": {},
   "outputs": [],
   "source": [
    "Entrada1 = input(\"Ingrese la distancia del primer planeta: \")\n",
    "Entrada2 = input(\"Ingrese la distancia del segundo planeta: \")"
   ]
  },
  {
   "cell_type": "code",
   "execution_count": 20,
   "metadata": {},
   "outputs": [],
   "source": [
    "DPlaneta1 = int(Entrada1)\n",
    "DPlaneta2 = int(Entrada2)"
   ]
  },
  {
   "cell_type": "code",
   "execution_count": 21,
   "metadata": {},
   "outputs": [
    {
     "name": "stdout",
     "output_type": "stream",
     "text": [
      "La distancia en Km entre los planetas es de: 49\n",
      "La distancia en millas entre los planetas es de: 30.429\n"
     ]
    }
   ],
   "source": [
    "Distancia = abs(DPlaneta1-DPlaneta2)\n",
    "DistanciaMillas = Distancia*0.621\n",
    "print(\"La distancia en Km entre los planetas es de: \" + str(Distancia))\n",
    "print(\"La distancia en millas entre los planetas es de: \" + str(DistanciaMillas))"
   ]
  },
  {
   "cell_type": "code",
   "execution_count": null,
   "metadata": {},
   "outputs": [],
   "source": []
  }
 ],
 "metadata": {
  "interpreter": {
   "hash": "5867cd861b48cebe4b2f7e4360f53d229430951dd37022d1e3038d166b3cc25c"
  },
  "kernelspec": {
   "display_name": "Python 3.10.2 64-bit (windows store)",
   "language": "python",
   "name": "python3"
  },
  "language_info": {
   "codemirror_mode": {
    "name": "ipython",
    "version": 3
   },
   "file_extension": ".py",
   "mimetype": "text/x-python",
   "name": "python",
   "nbconvert_exporter": "python",
   "pygments_lexer": "ipython3",
   "version": "3.10.2"
  },
  "orig_nbformat": 4
 },
 "nbformat": 4,
 "nbformat_minor": 2
}
